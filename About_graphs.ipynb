{
 "cells": [
  {
   "cell_type": "code",
   "execution_count": null,
   "metadata": {},
   "outputs": [],
   "source": [
    "a = {1:[2,3],0:[1,4]} #1 and 0 are the keys and are in a\n",
    "                    `# 2 and 3 are not "
   ]
  },
  {
   "cell_type": "code",
   "execution_count": 35,
   "metadata": {},
   "outputs": [
    {
     "name": "stdout",
     "output_type": "stream",
     "text": [
      "A graph of 7 nodes:\n",
      "0:[1, 2]\n",
      "1:[0]\n",
      "2:[0]\n",
      "3:[4]\n",
      "4:[3, 5]\n",
      "5:[4]\n",
      "7:[]\n",
      "\n"
     ]
    }
   ],
   "source": [
    "class Graph():\n",
    "    def __init__(self):\n",
    "        #self.edges = [] # create a list of tuples\n",
    "        #self.nodes = [] #list of nodes to be printed\n",
    "        #nodes are our keys\n",
    "        self.gdict = {}\n",
    "        \n",
    "    def add_node(self,node):\n",
    "        \"\"\"if node is not in a dictinary, add it.\"\"\"\n",
    "        if node not in self.gdict: #changed from self.node\n",
    "            self.gdict[node]=[]\n",
    "        \n",
    "    def add_edge(self,node1,node2): #we need to define add_edge for the object to be created\n",
    "        self.add_node(node1)\n",
    "        self.add_node(node2)\n",
    "        #if (node1,node2) not in self.edges:\n",
    "           # self.edges.append((node1,node2))\n",
    "        if node2 not in self.gdict[node1]:\n",
    "            self.gdict[node1].append(node2)\n",
    "        if node1 not in self.gdict[node2]:\n",
    "            self.gdict[node2].append(node1)\n",
    "            \n",
    "    def __str__(self): #string returns a list of our stuffs\n",
    "        out = 'A graph of ' + str(len(self.gdict)) + ' nodes:\\n'\n",
    "        for node in self.gdict:\n",
    "            out += str(node) + ':' + str(self.gdict[node]) +'\\n' #\\n is new line\n",
    "        return out #switched return str to out\n",
    "    \n",
    "g = Graph()\n",
    "g.add_edge(0,1)\n",
    "g.add_edge(0,2)\n",
    "g.add_edge(3,4)\n",
    "g.add_edge(4,5)\n",
    "g.add_node(7) #node with no edges/not connected to any other nodes\n",
    "print(g) "
   ]
  }
 ],
 "metadata": {
  "kernelspec": {
   "display_name": "Python 3",
   "language": "python",
   "name": "python3"
  },
  "language_info": {
   "codemirror_mode": {
    "name": "ipython",
    "version": 3
   },
   "file_extension": ".py",
   "mimetype": "text/x-python",
   "name": "python",
   "nbconvert_exporter": "python",
   "pygments_lexer": "ipython3",
   "version": "3.7.4"
  }
 },
 "nbformat": 4,
 "nbformat_minor": 2
}
