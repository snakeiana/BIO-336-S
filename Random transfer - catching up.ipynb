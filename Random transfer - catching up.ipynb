{
 "cells": [
  {
   "cell_type": "code",
   "execution_count": 4,
   "metadata": {},
   "outputs": [],
   "source": [
    "import numpy as np\n",
    "import matplotlib.pyplot as plt"
   ]
  },
  {
   "cell_type": "code",
   "execution_count": 2,
   "metadata": {},
   "outputs": [
    {
     "data": {
      "image/png": "[encoded data removed]",
      "text/plain": [
       "<Figure size 432x288 with 1 Axes>"
      ]
     },
     "metadata": {
      "needs_background": "light"
     },
     "output_type": "display_data"
    }
   ],
   "source": [
    "# Basic model\n",
    "nsteps = 10000\n",
    "npeople = 100\n",
    "coin = 0.1\n",
    "\n",
    "wealth = np.ones(npeople)                           # Init at equal wealth\n",
    "\n",
    "for t in range(nsteps):\n",
    "    p1 = np.random.randint(low=0, high=npeople)     # Pick 2 random people\n",
    "    p2 = np.random.randint(low=0, high=npeople)     # p1 may end up being equal to p2, but it's not gonna break the script.\n",
    "    if wealth[p1]>0:\n",
    "        wealth[p1] -= coin                          # Decrease this one\n",
    "        wealth[p2] += coin                          # But increase this one\n",
    "        \n",
    "plt.hist(wealth);"
   ]
  },
  {
   "cell_type": "code",
   "execution_count": 6,
   "metadata": {},
   "outputs": [
    {
     "name": "stdout",
     "output_type": "stream",
     "text": [
      "This should be 0: 0.0\n",
      "This should be 1: 1.0\n",
      "This should be something else: 0.6078431372549019\n"
     ]
    }
   ],
   "source": [
    "# Define a function to calculate Gini coefficient\n",
    "def gini(x):\n",
    "    y = np.sort(x) # We need to sort them by wealth\n",
    "    upper_sum = 0\n",
    "    n = len(x)\n",
    "    for i in range(n):\n",
    "        upper_sum += (i+1)*y[i]\n",
    "    return 1-2/(n-1)*( n - upper_sum/sum(y) )\n",
    "\n",
    "# Testing the function:    \n",
    "print('This should be 0:',gini([1,1,1,1]))\n",
    "print('This should be 1:',gini([1,0,0,0]))\n",
    "print('This should be something else:',gini([10,5,1,1]))"
   ]
  },
  {
   "cell_type": "code",
   "execution_count": 26,
   "metadata": {},
   "outputs": [
    {
     "ename": "AttributeError",
     "evalue": "'float' object has no attribute 'shape'",
     "output_type": "error",
     "traceback": [
      "\u001b[0;31m---------------------------------------------------------------------------\u001b[0m",
      "\u001b[0;31mAttributeError\u001b[0m                            Traceback (most recent call last)",
      "\u001b[0;32m<ipython-input-26-837580956b53>\u001b[0m in \u001b[0;36m<module>\u001b[0;34m\u001b[0m\n\u001b[1;32m     10\u001b[0m \u001b[0mgini_history\u001b[0m \u001b[0;34m=\u001b[0m \u001b[0mnp\u001b[0m\u001b[0;34m.\u001b[0m\u001b[0mzeros\u001b[0m\u001b[0;34m(\u001b[0m\u001b[0mnsteps\u001b[0m\u001b[0;34m)\u001b[0m\u001b[0;34m\u001b[0m\u001b[0;34m\u001b[0m\u001b[0m\n\u001b[1;32m     11\u001b[0m \u001b[0mrates\u001b[0m \u001b[0;34m=\u001b[0m \u001b[0mnp\u001b[0m\u001b[0;34m.\u001b[0m\u001b[0marange\u001b[0m\u001b[0;34m(\u001b[0m\u001b[0mstart\u001b[0m\u001b[0;34m=\u001b[0m\u001b[0;36m0\u001b[0m\u001b[0;34m,\u001b[0m \u001b[0mstop\u001b[0m\u001b[0;34m=\u001b[0m\u001b[0;36m0.16\u001b[0m\u001b[0;34m,\u001b[0m\u001b[0mstep\u001b[0m\u001b[0;34m=\u001b[0m\u001b[0;36m0.1\u001b[0m\u001b[0;34m)\u001b[0m\u001b[0;34m\u001b[0m\u001b[0;34m\u001b[0m\u001b[0m\n\u001b[0;32m---> 12\u001b[0;31m \u001b[0mfinal_gini\u001b[0m \u001b[0;34m=\u001b[0m\u001b[0mnp\u001b[0m\u001b[0;34m.\u001b[0m\u001b[0mzeros\u001b[0m\u001b[0;34m(\u001b[0m\u001b[0mshape\u001b[0m\u001b[0;34m=\u001b[0m\u001b[0mrate\u001b[0m\u001b[0;34m.\u001b[0m\u001b[0mshape\u001b[0m\u001b[0;34m)\u001b[0m\u001b[0;34m\u001b[0m\u001b[0;34m\u001b[0m\u001b[0m\n\u001b[0m\u001b[1;32m     13\u001b[0m \u001b[0;34m\u001b[0m\u001b[0m\n\u001b[1;32m     14\u001b[0m \u001b[0mi\u001b[0m\u001b[0;34m=\u001b[0m\u001b[0;36m0\u001b[0m\u001b[0;34m\u001b[0m\u001b[0;34m\u001b[0m\u001b[0m\n",
      "\u001b[0;31mAttributeError\u001b[0m: 'float' object has no attribute 'shape'"
     ]
    }
   ],
   "source": [
    "#Remember everything, plot the history.\n",
    "\n",
    "nsteps = 100\n",
    "trades_per_step = 10\n",
    "npeople = 100\n",
    "coin = 0.1\n",
    "interest = 0.001\n",
    "\n",
    "wealth = np.ones(shape=(nsteps,npeople))\n",
    "gini_history = np.zeros(nsteps)\n",
    "rates = np.arange(start=0, stop=0.16,step=0.1)\n",
    "final_gini =np.zeros(shape=rate.shape)\n",
    "\n",
    "i=0\n",
    "for rate in rates:\n",
    "    for t in range(1,nsteps):\n",
    "        wealth[t,:] = wealth[t-1,:]*(1+interest)\n",
    "        \n",
    "        tax = rate * np.sum(wealth[t,:1])\n",
    "        wealth[t,:]=wealth[t,:]*(1-rate)\n",
    "        wealth[t,:] += tax/npeople\n",
    "   \n",
    "    \n",
    "    for i in range(trades_per_step):                  # Let's make more than 2 ppl trade at each time point.\n",
    "        p1 = np.random.randint(low=0, high=npeople)   # (It doesn't change the end solution, just makes plots prettier.\n",
    "        p2 = np.random.randint(low=0, high=npeople)   # It's equivalent to only remembering eath Kth step.)\n",
    "        if wealth[t,p1]>0:\n",
    "            wealth[t,p1] -= coin        # Still update in place\n",
    "            wealth[t,p2] += coin\n",
    "    gini_history[t] = gini(wealth[t,:]) # Calculate gini index for the current distribution of wealth\n",
    "    \n",
    "    \n",
    "    \n",
    "    \n",
    "# Figures\n",
    "plt.figure(figsize=(15,5))\n",
    "plt.subplot(1,3,1)\n",
    "plt.hist(wealth[-1,:],bins=10);\n",
    "plt.xlabel('Wealth');\n",
    "plt.ylabel('Count');\n",
    "\n",
    "plt.subplot(1,3,2);\n",
    "poor_one = np.argmin(wealth[-1,:])\n",
    "rich_one = np.argmax(wealth[-1,:])\n",
    "plt.plot(wealth[:,poor_one]);\n",
    "plt.plot(wealth[:,rich_one]);\n",
    "plt.xlabel('Time');\n",
    "plt.ylabel('Wealth');\n",
    "\n",
    "plt.subplot(1,3,3)\n",
    "plt.plot(gini_history);\n",
    "plt.xlabel('Time');\n",
    "plt.ylabel('Gini index');"
   ]
  }
 ],
 "metadata": {
  "kernelspec": {
   "display_name": "Python 3",
   "language": "python",
   "name": "python3"
  },
  "language_info": {
   "codemirror_mode": {
    "name": "ipython",
    "version": 3
   },
   "file_extension": ".py",
   "mimetype": "text/x-python",
   "name": "python",
   "nbconvert_exporter": "python",
   "pygments_lexer": "ipython3",
   "version": "3.7.4"
  }
 },
 "nbformat": 4,
 "nbformat_minor": 2
}
