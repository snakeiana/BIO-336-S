{
 "cells": [
  {
   "cell_type": "code",
   "execution_count": null,
   "metadata": {},
   "outputs": [],
   "source": []
  },
  {
   "cell_type": "code",
   "execution_count": 3,
   "metadata": {},
   "outputs": [
    {
     "name": "stdout",
     "output_type": "stream",
     "text": [
      "Here is a number: 2\n",
      "I have a lovely dog named Spot\n",
      "I have a lovely dog named Fido\n",
      "I have a lovely dog named Reks\n"
     ]
    }
   ],
   "source": [
    "#functions\n",
    "\n",
    "#Built in function:\n",
    "print('Here is a number:',2)\n",
    "\n",
    "#A person who wrote the same code too many times\n",
    "print('I have a lovely dog named Spot')\n",
    "print('I have a lovely dog named Fido')\n",
    "print('I have a lovely dog named Reks')\n",
    "\n",
    "#Wow so much writing for the same thing\n"
   ]
  },
  {
   "cell_type": "code",
   "execution_count": 8,
   "metadata": {},
   "outputs": [
    {
     "name": "stdout",
     "output_type": "stream",
     "text": [
      "I have a lovely dog named Teddy\n",
      "I have a lovely dog named Dog\n"
     ]
    }
   ],
   "source": [
    "#use lowercase for functions/variables and use an underscores\n",
    "def express_love(name='Dog'):\n",
    "    print('I have a lovely dog named',name)\n",
    "    \n",
    "express_love('Teddy')\n",
    "express_love() #Default value"
   ]
  },
  {
   "cell_type": "code",
   "execution_count": 12,
   "metadata": {},
   "outputs": [
    {
     "name": "stdout",
     "output_type": "stream",
     "text": [
      "I have a lovely dog named Teddy\n",
      "YAY\n"
     ]
    }
   ],
   "source": [
    "def express_love(name=None): #Default value of None, so no error if called without arguments\n",
    "    \"\"\"Expresses love to all creation , or a specific dog.\"\"\"\n",
    "    if name is None:\n",
    "        print('YAY')\n",
    "    else:                    #special behavior if no argument\n",
    "        print('I have a lovely dog named',name)\n",
    "    \n",
    "express_love('Teddy')\n",
    "express_love() #Default value"
   ]
  },
  {
   "cell_type": "code",
   "execution_count": 14,
   "metadata": {},
   "outputs": [
    {
     "name": "stdout",
     "output_type": "stream",
     "text": [
      "['Spot', 'Fido', 'Reks', 'Teddy']\n",
      "The loop starts now:\n",
      "I have a lovely dog named Spot\n",
      "I have a lovely dog named Fido\n",
      "I have a lovely dog named Reks\n",
      "I have a lovely dog named Teddy\n"
     ]
    }
   ],
   "source": [
    "#Let's glorift several dogs in one go\n",
    "names=['Spot','Fido','Reks','Teddy']\n",
    "print(names)\n",
    "\n",
    "print('The loop starts now:')\n",
    "for name in names:         #For here makes tou 'running variable' (NAME) take values from the list (NAMES), one by one\n",
    "    express_love(name)"
   ]
  },
  {
   "cell_type": "code",
   "execution_count": 6,
   "metadata": {},
   "outputs": [
    {
     "data": {
      "text/plain": [
       "<function __main__.express_love(name)>"
      ]
     },
     "execution_count": 6,
     "metadata": {},
     "output_type": "execute_result"
    }
   ],
   "source": [
    "express_love #If you call a function a name whithout (), instead of running the function you \"get\" the function itself"
   ]
  },
  {
   "cell_type": "code",
   "execution_count": 7,
   "metadata": {},
   "outputs": [
    {
     "ename": "NameError",
     "evalue": "name 'express_hatred' is not defined",
     "output_type": "error",
     "traceback": [
      "\u001b[0;31m---------------------------------------------------------------------------\u001b[0m",
      "\u001b[0;31mNameError\u001b[0m                                 Traceback (most recent call last)",
      "\u001b[0;32m<ipython-input-7-273816c271ea>\u001b[0m in \u001b[0;36m<module>\u001b[0;34m\u001b[0m\n\u001b[0;32m----> 1\u001b[0;31m \u001b[0mexpress_hatred\u001b[0m \u001b[0;31m#This function doesn't exist here\u001b[0m\u001b[0;34m\u001b[0m\u001b[0;34m\u001b[0m\u001b[0m\n\u001b[0m\u001b[1;32m      2\u001b[0m \u001b[0;31m#Error messa\u001b[0m\u001b[0;34m\u001b[0m\u001b[0;34m\u001b[0m\u001b[0;34m\u001b[0m\u001b[0m\n",
      "\u001b[0;31mNameError\u001b[0m: name 'express_hatred' is not defined"
     ]
    }
   ],
   "source": [
    "express_hatred #This function doesn't exist here \n",
    "#Error message tries to tell you what and where it happened (with an arrow),\n"
   ]
  },
  {
   "cell_type": "code",
   "execution_count": 17,
   "metadata": {},
   "outputs": [
    {
     "name": "stdout",
     "output_type": "stream",
     "text": [
      "4\n",
      "14\n",
      "5\n",
      "5\n",
      "14\n"
     ]
    }
   ],
   "source": [
    "#Functions that do something and give it back to you\n",
    "\n",
    "#Built-in \n",
    "print(len(names)) #Takes something and measures it's length in characters\n",
    "\n",
    "#Imagine that somebody has to calculate x**2+5 again and again\n",
    "print(3**2+5)\n",
    "print(0**2+5)\n",
    "\n",
    "def my_calculation(x): #Strategic choice of not having a default value\n",
    "    \"\"\"Calculates this formula\"\"\"\n",
    "    return x**2+5\n",
    "print(my_calculation(0))\n",
    "print(my_calculation(3))"
   ]
  },
  {
   "cell_type": "markdown",
   "metadata": {},
   "source": [
    "# Markdown\n",
    "\n",
    "print(4)\n",
    "\n",
    "newline nothinf happend gwaow\n",
    "\n",
    "* Bullet point is asterisk and a space\n",
    "* kikiki\n",
    "\n",
    "To makea link put the word in [brakets and then the http like](http://google.com) in regular ()\n",
    "\n",
    "## markdownn\n",
    "\n",
    "### markdownnn\n",
    "\n",
    "#### markdownnnn\n",
    "\n",
    "##### markdownnnnn\n",
    "\n",
    "Fancy coding font use reverse quotation marks lile : `print(4)` \n",
    "Math is fancy, for example $5+5=10$. Fancy math is : $\\displaystyle \\sum_{i=0}^{\\inf} \\sqrt{1/(n+1)}$\n",
    "\n",
    "$\\displaystyle \\frac{1}{1 \\bigotimes x}$\n"
   ]
  },
  {
   "cell_type": "code",
   "execution_count": null,
   "metadata": {},
   "outputs": [],
   "source": []
  },
  {
   "cell_type": "code",
   "execution_count": null,
   "metadata": {},
   "outputs": [],
   "source": []
  },
  {
   "cell_type": "code",
   "execution_count": null,
   "metadata": {},
   "outputs": [],
   "source": []
  }
 ],
 "metadata": {
  "kernelspec": {
   "display_name": "Python 3",
   "language": "python",
   "name": "python3"
  },
  "language_info": {
   "codemirror_mode": {
    "name": "ipython",
    "version": 3
   },
   "file_extension": ".py",
   "mimetype": "text/x-python",
   "name": "python",
   "nbconvert_exporter": "python",
   "pygments_lexer": "ipython3",
   "version": "3.7.4"
  }
 },
 "nbformat": 4,
 "nbformat_minor": 2
}
