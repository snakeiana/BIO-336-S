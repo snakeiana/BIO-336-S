{
 "cells": [
  {
   "cell_type": "code",
   "execution_count": 1,
   "metadata": {},
   "outputs": [],
   "source": [
    "import numpy as np"
   ]
  },
  {
   "cell_type": "code",
   "execution_count": 10,
   "metadata": {},
   "outputs": [
    {
     "name": "stdout",
     "output_type": "stream",
     "text": [
      "[[  0.   0.   0.]\n",
      " [  0. 777.   0.]\n",
      " [  0.   0.   0.]\n",
      " [  0.   2.   2.]\n",
      " [  0.   2.   2.]]\n",
      "spiderman butt\n",
      "[[  0.   0.   0.]\n",
      " [  0. 777.   0.]\n",
      " [  0. 111.   0.]\n",
      " [  0.   2.   2.]\n",
      " [  0.   2.   2.]]\n"
     ]
    }
   ],
   "source": [
    "a = np.zeros((5,3))\n",
    "a[1,1]=777\n",
    "a[-2:,-2:]=2\n",
    "print(a)\n",
    "\n",
    "print('spiderman butt')\n",
    "a[2,:]=a[1,:]/7\n",
    "print(a)"
   ]
  },
  {
   "cell_type": "code",
   "execution_count": null,
   "metadata": {},
   "outputs": [],
   "source": []
  }
 ],
 "metadata": {
  "kernelspec": {
   "display_name": "Python 3",
   "language": "python",
   "name": "python3"
  },
  "language_info": {
   "codemirror_mode": {
    "name": "ipython",
    "version": 3
   },
   "file_extension": ".py",
   "mimetype": "text/x-python",
   "name": "python",
   "nbconvert_exporter": "python",
   "pygments_lexer": "ipython3",
   "version": "3.7.4"
  }
 },
 "nbformat": 4,
 "nbformat_minor": 2
}
