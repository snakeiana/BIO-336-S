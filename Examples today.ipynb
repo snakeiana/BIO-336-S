{
 "cells": [
  {
   "cell_type": "code",
   "execution_count": 7,
   "metadata": {},
   "outputs": [
    {
     "name": "stdout",
     "output_type": "stream",
     "text": [
      "Praise 222\n",
      "Praise holy spirit\n",
      "Praise da lord\n",
      "Praise 7\n"
     ]
    }
   ],
   "source": [
    "# Default values\n",
    "def praise(x=7):\n",
    "    print('Praise',x)\n",
    "\n",
    "praise(222)\n",
    "praise('holy spirit')\n",
    "praise('da lord')\n",
    "praise()"
   ]
  },
  {
   "cell_type": "code",
   "execution_count": null,
   "metadata": {},
   "outputs": [],
   "source": [
    "# How class works\n",
    "class Creature(): #This defines a class\n",
    "    def __init__(self,name='Spirit'):\n",
    "        '''Constructor.'''\n",
    "        self.name = name "
   ]
  }
 ],
 "metadata": {
  "kernelspec": {
   "display_name": "Python 3",
   "language": "python",
   "name": "python3"
  },
  "language_info": {
   "codemirror_mode": {
    "name": "ipython",
    "version": 3
   },
   "file_extension": ".py",
   "mimetype": "text/x-python",
   "name": "python",
   "nbconvert_exporter": "python",
   "pygments_lexer": "ipython3",
   "version": "3.7.4"
  }
 },
 "nbformat": 4,
 "nbformat_minor": 2
}
