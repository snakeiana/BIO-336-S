{
 "cells": [
  {
   "cell_type": "code",
   "execution_count": 1,
   "metadata": {},
   "outputs": [],
   "source": [
    "import numpy as np\n",
    "import matplotlib.pyplot as plt\n",
    "import networkx as nx"
   ]
  },
  {
   "cell_type": "markdown",
   "metadata": {},
   "source": [
    "\n",
    "# About graphs"
   ]
  },
  {
   "cell_type": "code",
   "execution_count": 7,
   "metadata": {},
   "outputs": [
    {
     "name": "stdout",
     "output_type": "stream",
     "text": [
      "A graph of 7 nodes:\n",
      "0:[1, 2]\n",
      "1:[0]\n",
      "2:[0]\n",
      "3:[4]\n",
      "4:[3, 5]\n",
      "5:[4]\n",
      "7:[]\n",
      "\n",
      "Nodes: [0, 1, 2, 3, 4, 5, 7]\n",
      "Edges: [(0, 1), (0, 2), (3, 4), (4, 5)]\n"
     ]
    },
    {
     "name": "stderr",
     "output_type": "stream",
     "text": [
      "/Users/sacha/opt/anaconda3/lib/python3.7/site-packages/networkx/drawing/nx_pylab.py:579: MatplotlibDeprecationWarning: \n",
      "The iterable function was deprecated in Matplotlib 3.1 and will be removed in 3.3. Use np.iterable instead.\n",
      "  if not cb.iterable(width):\n"
     ]
    },
    {
     "data": {
      "image/png": "[encoded data removed]",
      "text/plain": [
       "<Figure size 432x288 with 1 Axes>"
      ]
     },
     "metadata": {},
     "output_type": "display_data"
    }
   ],
   "source": [
    "class Graph():\n",
    "    def __init__(self):\n",
    "        self.gdict = {}\n",
    "        \n",
    "    def add_node(self, node):\n",
    "        \"\"\"If node is not in a dictionary, add it.\"\"\"\n",
    "        if node not in self.gdict:\n",
    "            self.gdict[node] = []\n",
    "    \n",
    "    def add_edge(self, node1, node2):        \n",
    "        self.add_node(node1)\n",
    "        self.add_node(node2)\n",
    "        # Add node2 as a connection for node1, and the other way around\n",
    "        if node2 not in self.gdict[node1]:\n",
    "            self.gdict[node1].append(node2)\n",
    "        if node1 not in self.gdict[node2]:\n",
    "            self.gdict[node2].append(node1)\n",
    "            \n",
    "    def nodes(self):\n",
    "        \"\"\"Returns a list of nodes.\"\"\"\n",
    "        return list(self.gdict.keys())\n",
    "    \n",
    "    def edges(self):\n",
    "        \"\"\"Returns a list of edges.\"\"\"\n",
    "        out = []\n",
    "        for node,links in self.gdict.items():\n",
    "            for link in links:\n",
    "                if node<link:\n",
    "                    out.append((node,link))\n",
    "        return out\n",
    "            \n",
    "    def __str__(self):\n",
    "        out = 'A graph of ' + str(len(self.gdict)) + ' nodes:\\n'\n",
    "        for node in self.gdict:\n",
    "            out += str(node) + ':' + str(self.gdict[node]) + '\\n'\n",
    "        return out\n",
    "    \n",
    "    def plot(self):\n",
    "        g_nx = nx.Graph()\n",
    "        g_nx.add_nodes_from(self.nodes())\n",
    "        g_nx.add_edges_from(self.edges())\n",
    "        nx.draw_kamada_kawai(g_nx, node_size=100)\n",
    "    \n",
    "# Test\n",
    "g = Graph()\n",
    "g.add_edge(0,1)\n",
    "g.add_edge(0,2)\n",
    "g.add_edge(3,4)\n",
    "g.add_edge(4,5)\n",
    "g.add_node(7)\n",
    "print(g)\n",
    "print('Nodes:',g.nodes())\n",
    "print('Edges:',g.edges())\n",
    "g.plot()"
   ]
  },
  {
   "cell_type": "markdown",
   "metadata": {},
   "source": [
    "# Random networks"
   ]
  },
  {
   "cell_type": "code",
   "execution_count": 13,
   "metadata": {},
   "outputs": [
    {
     "name": "stdout",
     "output_type": "stream",
     "text": [
      "15 21\n",
      "5 14\n",
      "8 19\n",
      "7 13\n",
      "7 20\n",
      "1 21\n",
      "14 15\n",
      "5 22\n",
      "11 14\n",
      "0 4\n",
      "6 9\n",
      "16 22\n",
      "5 23\n",
      "3 6\n",
      "15 24\n",
      "10 14\n",
      "8 22\n",
      "8 9\n",
      "6 10\n",
      "10 21\n",
      "18 23\n",
      "3 7\n",
      "5 11\n",
      "17 19\n",
      "14 24\n"
     ]
    },
    {
     "data": {
      "image/png": "[encoded data removed]",
      "text/plain": [
       "<Figure size 432x288 with 1 Axes>"
      ]
     },
     "metadata": {},
     "output_type": "display_data"
    }
   ],
   "source": [
    "n_nodes = 25\n",
    "n_edges = n_nodes \n",
    "\n",
    "g = Graph()\n",
    "for i in range(n_nodes): \n",
    "    g.add_node(i)\n",
    "edges = []\n",
    "while len(edges)<n_edges: #to know this need a rand num generator\n",
    "    n1 = np.random.randint(low=0,high=n_nodes)\n",
    "    n2 = np.random.randint(low=0,high=n_nodes)\n",
    "    if n2<n1:\n",
    "        n1,n2 = n2,n1\n",
    "    \n",
    "    if (n1,n2) not in edges and n1!=n2:\n",
    "        g.add_edge(n1,n2)\n",
    "        edges.append((n1,n2))\n",
    "        print(n1,n2)\n",
    "    \n",
    "g.plot()"
   ]
  },
  {
   "cell_type": "code",
   "execution_count": 14,
   "metadata": {},
   "outputs": [
    {
     "name": "stdout",
     "output_type": "stream",
     "text": [
      "[1, 1, 0, 2, 1, 4, 3, 3, 3, 2, 3, 2, 0, 1, 5, 3, 1, 1, 1, 2, 1, 3, 3, 2, 2]\n",
      "[2. 8. 6. 7. 1. 1.]\n"
     ]
    },
    {
     "data": {
      "text/plain": [
       "Text(0, 0.5, 'Frequency')"
      ]
     },
     "execution_count": 14,
     "metadata": {},
     "output_type": "execute_result"
    },
    {
     "data": {
      "image/png": "[encoded data removed]",
      "text/plain": [
       "<Figure size 432x288 with 1 Axes>"
      ]
     },
     "metadata": {
      "needs_background": "light"
     },
     "output_type": "display_data"
    }
   ],
   "source": [
    "degrees = []\n",
    "for node,links in g.gdict.items():\n",
    "    degrees.append(len(links))\n",
    "\n",
    "print(degrees)\n",
    "hist = np.zeros(max(degrees)+1)\n",
    "for degree in degrees:\n",
    "    hist[degree] += 1\n",
    "print(hist)\n",
    "\n",
    "plt.plot(hist,'.-');\n",
    "plt.xlabel('Degrees')\n",
    "plt.ylabel('Frequency')"
   ]
  },
  {
   "cell_type": "markdown",
   "metadata": {},
   "source": [
    "# Homework"
   ]
  },
  {
   "cell_type": "code",
   "execution_count": 15,
   "metadata": {},
   "outputs": [
    {
     "name": "stdout",
     "output_type": "stream",
     "text": [
      "[1, 1, 0, 2, 1, 4, 3, 3, 3, 2, 3, 2, 0, 1, 5, 3, 1, 1, 1, 2, 1, 3, 3, 2, 2, 0, 0, 0, 0, 0, 0, 0, 0, 0, 0, 0, 0, 0, 0, 0, 0, 0, 0, 0, 0, 0, 0, 0, 0, 0, 0, 0, 0, 0, 0]\n",
      "[32.  8.  6.  7.  1.  1.]\n"
     ]
    },
    {
     "data": {
      "text/plain": [
       "Text(0, 0.5, 'Frequency')"
      ]
     },
     "execution_count": 15,
     "metadata": {},
     "output_type": "execute_result"
    },
    {
     "data": {
      "image/png": "[encoded data removed]",
      "text/plain": [
       "<Figure size 432x288 with 1 Axes>"
      ]
     },
     "metadata": {
      "needs_background": "light"
     },
     "output_type": "display_data"
    }
   ],
   "source": [
    "hw_nodes = 55\n",
    "hw_edges = hw_nodes\n",
    "\n",
    "for i in range (0, hw_nodes): \n",
    "    g.add_node(i)                          \n",
    "    if i!=i:                   # I did this part twice because i wasn't sure if this adding a new node is picking\n",
    "        g.add_edge(hw_nodes)   # a specific node that I don't know or if should selct a particular one???\n",
    "        \n",
    "degrees = []\n",
    "for node,links in g.gdict.items():\n",
    "    degrees.append(len(links))\n",
    "\n",
    "print(degrees)\n",
    "hist = np.zeros(max(degrees)+1)\n",
    "for degree in degrees:\n",
    "    hist[degree] += 1\n",
    "print(hist)\n",
    "\n",
    "plt.plot(hist,'.-');\n",
    "plt.xlabel('Degrees')\n",
    "plt.ylabel('Frequency')"
   ]
  },
  {
   "cell_type": "code",
   "execution_count": 17,
   "metadata": {},
   "outputs": [
    {
     "name": "stdout",
     "output_type": "stream",
     "text": [
      "[1, 1, 0, 2, 1, 4, 3, 3, 3, 2, 3, 2, 0, 1, 5, 3, 1, 1, 1, 2, 1, 3, 3, 2, 2, 0, 0, 0, 0, 0, 0, 0, 0, 0, 0, 0, 0, 0, 0, 0, 0, 0, 0, 0, 0, 0, 0, 0, 0, 0, 0, 0, 0, 0, 0, 1]\n",
      "[32.  9.  6.  7.  1.  1.]\n"
     ]
    },
    {
     "data": {
      "text/plain": [
       "Text(0, 0.5, 'Frequency')"
      ]
     },
     "execution_count": 17,
     "metadata": {},
     "output_type": "execute_result"
    },
    {
     "data": {
      "image/png": "[encoded data removed]",
      "text/plain": [
       "<Figure size 432x288 with 1 Axes>"
      ]
     },
     "metadata": {
      "needs_background": "light"
     },
     "output_type": "display_data"
    }
   ],
   "source": [
    "hw_nodes = 55\n",
    "hw_edges = hw_nodes\n",
    "\n",
    "for i in range (0, hw_nodes): \n",
    "    g.add_node(i)                           \n",
    "    for i7 in range (0, hw_nodes):   #This one may be the right formulation\n",
    "        g.add_node(i7)\n",
    "        if i!=i7:                   \n",
    "            g.add_edge(hw_nodes,hw_nodes) \n",
    "        \n",
    "degrees = []\n",
    "for node,links in g.gdict.items():\n",
    "    degrees.append(len(links))\n",
    "\n",
    "print(degrees)\n",
    "hist = np.zeros(max(degrees)+1)\n",
    "for degree in degrees:\n",
    "    hist[degree] += 1\n",
    "print(hist)\n",
    "\n",
    "plt.plot(hist,'.-');\n",
    "plt.xlabel('Degrees')\n",
    "plt.ylabel('Frequency')"
   ]
  },
  {
   "cell_type": "markdown",
   "metadata": {},
   "source": [
    "I don't really know how to write a code for the last homework question but I think that it would be something similar to the infection simulation that we did. \n",
    "We would have to add different colors for the 0th node ie. patient 0. \n",
    "\n",
    "The histogram graph would show us which degree/node is most likely to infect others by using the edges between them. I am unsure for now how to define this \"transmission through edges\" but I'm pretty sure that is the aim of my code\n",
    "\n",
    "after figuring this out we would represent it with the history of all the trials we would have done.\n"
   ]
  },
  {
   "cell_type": "code",
   "execution_count": null,
   "metadata": {},
   "outputs": [],
   "source": []
  }
 ],
 "metadata": {
  "kernelspec": {
   "display_name": "Python 3",
   "language": "python",
   "name": "python3"
  },
  "language_info": {
   "codemirror_mode": {
    "name": "ipython",
    "version": 3
   },
   "file_extension": ".py",
   "mimetype": "text/x-python",
   "name": "python",
   "nbconvert_exporter": "python",
   "pygments_lexer": "ipython3",
   "version": "3.7.4"
  }
 },
 "nbformat": 4,
 "nbformat_minor": 2
}
