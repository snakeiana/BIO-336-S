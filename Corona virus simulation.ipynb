{
 "cells": [
  {
   "cell_type": "markdown",
   "metadata": {},
   "source": [
    "# Viral propagation in a population"
   ]
  },
  {
   "cell_type": "markdown",
   "metadata": {},
   "source": [
    "We want to see the difference betwwen a population of party-goes (aka social snakeys), and those that do social distancing.\n",
    "\n",
    "Changes in this model, compared to the previous:\n",
    "\n",
    "Stage 1:\n",
    "\n",
    "* No food, because it's not relevant\n",
    "* No hunger\n",
    "* No new babies\n",
    "\n",
    "Stage 2:\n",
    "\n",
    "* Essentially, stable population that doesn't change\n",
    "* Add a vector of who is healthy and who's not\n",
    "* Strts with a patient 0\n",
    "\n",
    "Stage 3:\n",
    "\n",
    "* Infection based on minimal distance (similar to distance to eat cabbage)\n",
    "...\n",
    "\n",
    "    for every person:\n",
    "     If infected\n",
    "        calculate distances to every other person\n",
    "        find all other agents that are closer than this threshold\n",
    "        infect them\n",
    "    \n",
    " * Output: New cases per snake as a function of time\n",
    " \n",
    " Stage 4:\n",
    " \n",
    " \n",
    " * Running the visulization:healthy are black infected are red\n",
    " * Parameter to model social distancing (something that turns them solitary if at 0, or super-mixing them together if 1): let's make them wiggle (vx=np.random"
   ]
  },
  {
   "cell_type": "code",
   "execution_count": 2,
   "metadata": {},
   "outputs": [],
   "source": [
    "%matplotlib notebook\n",
    "\n",
    "import numpy as np\n",
    "import matplotlib.pyplot as plt\n",
    "import time"
   ]
  },
  {
   "cell_type": "code",
   "execution_count": 3,
   "metadata": {},
   "outputs": [],
   "source": [
    "# Define constants, but we do it as a class (to later make passing it around easier)\n",
    "\n",
    "class Const: # Carefree remote-eating cheaters\n",
    "    def __init__(self):\n",
    "        self.n_trials = 10\n",
    "        self.n_snake = 100 # Original n_animals\n",
    "        self.n_steps = 500\n",
    "        self.speed = 0.02\n",
    "        self.arena_size = 3\n",
    "        \n",
    "    \n",
    "        self.biting_distance = 0.2**2       # To avoid running np.sqrt() later"
   ]
  },
  {
   "cell_type": "code",
   "execution_count": null,
   "metadata": {},
   "outputs": [],
   "source": [
    "# Build the model\n",
    "def model(c, show_dotses=False, n_trials=1):\n",
    "    history = np.zeros((c.n_steps, n_trials))\n",
    "\n",
    "    for i_trial in range(n_trials):\n",
    "        x = np.random.uniform(low=0, high=c.arena_size, size=c.n_snake)\n",
    "        y = np.random.uniform(low=0, high=c.arena_size, size=c.n_snake)\n",
    "        vx = np.zeros(c.n_snake)\n",
    "        vy = np.zeros(c.n_snake)\n",
    "        \n",
    "        infected = np.zeros(c.n_snake)\n",
    "        infected[0] = 1 #Pt 0\n",
    "        \n",
    "        stats = np.zeros(c.n_steps)\n",
    "        \n",
    "        \n",
    "        if show_dotses: # Init plots\n",
    "            fig = plt.figure(figsize=(3,3))\n",
    "            ax = plt.subplot(111) # No subplots; just creating axes\n",
    "            plt.xlim((0,c.arena_size));\n",
    "            plt.ylim((0,c.arena_size));\n",
    "            fig.show()\n",
    "            fig.canvas.draw()\n",
    "\n",
    "        for t in range(c.n_steps):\n",
    "            x += vx\n",
    "            y += vy\n",
    "            \n",
    "            vx = np.random.randn(c.n_snake)*c.speed\n",
    "            vy = np.random.randn(c.n_snake)*c.speed\n",
    "            # Make them run around (keeps speed somewhat randomized)\n",
    "\n",
    "            # Reflect from the walls\n",
    "            vx = np.where(np.logical_or(x>c.arena_size, x<0), -vx , vx)\n",
    "            vy = np.where(np.logical_or(y>c.arena_size, y<0), -vy , vy)\n",
    "            x = np.maximum(0,np.minimum(x, c.arena_size)) # Keep them in enclosure\n",
    "            y = np.maximum(0,np.minimum(y, c.arena_size))\n",
    "                                \n",
    "                \n",
    "            for i_snake in range(c.n_snake):\n",
    "                if infected[i_snake]==1:\n",
    "                    d = np.square(x-x[i_snake]) + np.square(y-y[i_snake])\n",
    "                    bitten = np.argwhere(d < c.biting_distance)\n",
    "                    infected[bitten] = 1\n",
    "               \n",
    "            stats[t] = np.sum(infected)/c.n_snake\n",
    "            \n",
    "            if show_dotses: # Actual animation\n",
    "                ax.clear()\n",
    "                plt.plot(x[infected==0], y[infected==0], 'r.',markersize=5);\n",
    "                plt.plot(x[infected==1], y[infected==1], 'g.',markersize=5);\n",
    "                plt.xlim((0,c.arena_size));\n",
    "                plt.ylim((0,c.arena_size));\n",
    "                fig.canvas.draw() # Redraws the canvas (key secret command to animate things)\n",
    "            else:\n",
    "                print('.',end='')\n",
    "        # --- Time loop is over\n",
    "\n",
    "        history[:,i_trial] = c.n_snake\n",
    "    return np.mean(history, axis=1)"
   ]
  },
  {
   "cell_type": "code",
   "execution_count": null,
   "metadata": {},
   "outputs": [],
   "source": [
    "c = Const()\n",
    "np.random.seed(1)\n",
    "%time curve = model(c, show_dotses=True);\n",
    "plt.figure(figsize=(3,3))\n",
    "plt.plot(curve)"
   ]
  },
  {
   "cell_type": "code",
   "execution_count": null,
   "metadata": {},
   "outputs": [],
   "source": []
  }
 ],
 "metadata": {
  "kernelspec": {
   "display_name": "Python 3",
   "language": "python",
   "name": "python3"
  },
  "language_info": {
   "codemirror_mode": {
    "name": "ipython",
    "version": 3
   },
   "file_extension": ".py",
   "mimetype": "text/x-python",
   "name": "python",
   "nbconvert_exporter": "python",
   "pygments_lexer": "ipython3",
   "version": "3.7.4"
  }
 },
 "nbformat": 4,
 "nbformat_minor": 2
}
